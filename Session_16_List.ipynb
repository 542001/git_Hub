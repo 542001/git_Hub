{
 "cells": [
  {
   "cell_type": "code",
   "execution_count": 6,
   "id": "53b688dd-5ece-4d71-8f1b-71dc43a588c6",
   "metadata": {},
   "outputs": [
    {
     "name": "stdin",
     "output_type": "stream",
     "text": [
      "Enter a number 1:  34#3\n",
      "Enter a number 2:  34#4\n"
     ]
    },
    {
     "name": "stdout",
     "output_type": "stream",
     "text": [
      "Both the numbers 34 and 34 are equal\n"
     ]
    }
   ],
   "source": [
    "# sandeep \n",
    "# how to find a greaterts number\n",
    "try:\n",
    "    num1 = eval(input(\"Enter a number 1: \"))\n",
    "    num2 = eval(input(\"Enter a number 2: \"))\n",
    "\n",
    "    if num1 == num2:\n",
    "        print(f\"Both the numbers {num1} and {num2} are equal\")\n",
    "    elif num1 > num2:\n",
    "        print(f\"{num1} is greater than {num2}\")\n",
    "    elif num1 < num2:\n",
    "        print(f\"{num1} is lesser than {num2}\")\n",
    "\n",
    "except Exception as e:\n",
    "    print(f\"You have encountered with an exception: {e}\")\n",
    "\n"
   ]
  },
  {
   "cell_type": "code",
   "execution_count": 11,
   "id": "9b4edff7-287f-46cb-893c-cf5111a11887",
   "metadata": {},
   "outputs": [
    {
     "data": {
      "text/plain": [
       "34"
      ]
     },
     "execution_count": 11,
     "metadata": {},
     "output_type": "execute_result"
    }
   ],
   "source": [
    "eval('34#344')  # spl charcters you can handle with int "
   ]
  },
  {
   "cell_type": "code",
   "execution_count": 15,
   "id": "943ced5d-5db9-44cc-84ce-06167c5e062a",
   "metadata": {},
   "outputs": [
    {
     "name": "stdout",
     "output_type": "stream",
     "text": [
      "123456\n"
     ]
    }
   ],
   "source": [
    "str1='the telephone number is 123456'\n",
    "# i want 123456\n",
    "# idea: split karo\n",
    "# then when you split ==== list \n",
    "\n",
    "# iterate each letter apply isdigit if it is\n",
    "# true then then keep in empty string\n",
    "num=''\n",
    "for i in str1:\n",
    "    if i.isdigit():\n",
    "        num=num+i\n",
    "print(num)"
   ]
  },
  {
   "cell_type": "markdown",
   "id": "d8e4a12b-045c-4c25-be51-ceb12a2eea6e",
   "metadata": {},
   "source": [
    "- Baisc representations\n",
    "\n",
    "- inbuilt functions\n",
    "\n",
    "    - type\n",
    "\n",
    "    - print\n",
    "\n",
    "    - min\n",
    "\n",
    "    - max\n",
    "\n",
    "    - len\n",
    "\n",
    "    - sum\n",
    "\n",
    "    - reveresd\n",
    "\n",
    "    - sorted\n",
    "\n",
    "- concatenation\n",
    "\n",
    "- index\n",
    "\n",
    "- in\n",
    "\n",
    "- difference between index and in\n",
    "\n",
    "- mutable vs immutable\n",
    "\n",
    "- slice\n",
    "\n",
    "- Methods"
   ]
  },
  {
   "cell_type": "markdown",
   "id": "ffa705ec-2e89-4fb7-8c09-e73785ee0af9",
   "metadata": {},
   "source": [
    "**Basic Representations**\n"
   ]
  },
  {
   "cell_type": "markdown",
   "id": "61af0cce-ea98-4cc1-97f2-b755ef517086",
   "metadata": {},
   "source": [
    "- strings elements is in quotes\n",
    "\n",
    "- List elements is in square brackets"
   ]
  },
  {
   "cell_type": "code",
   "execution_count": 16,
   "id": "b2e3e007-024c-4e9a-ab8c-e177dd287d7b",
   "metadata": {},
   "outputs": [
    {
     "data": {
      "text/plain": [
       "[1, 2, 3, 4]"
      ]
     },
     "execution_count": 16,
     "metadata": {},
     "output_type": "execute_result"
    }
   ],
   "source": [
    "list1=[1,2,3,4]\n",
    "list1"
   ]
  },
  {
   "cell_type": "code",
   "execution_count": 18,
   "id": "2442cbf9-e6dd-4abf-a001-d838c28957a5",
   "metadata": {},
   "outputs": [
    {
     "data": {
      "text/plain": [
       "list"
      ]
     },
     "execution_count": 18,
     "metadata": {},
     "output_type": "execute_result"
    }
   ],
   "source": [
    "type(list1)\n",
    "# for strings ===== str\n",
    "# we will say strings ==== but type is str\n",
    "# we will say list ====== type also list"
   ]
  },
  {
   "cell_type": "code",
   "execution_count": 19,
   "id": "6627932f-5c24-4110-9ad6-5d1d517fbb2b",
   "metadata": {},
   "outputs": [
    {
     "data": {
      "text/plain": [
       "['A', 'B', 'C']"
      ]
     },
     "execution_count": 19,
     "metadata": {},
     "output_type": "execute_result"
    }
   ],
   "source": [
    "list2=['A','B','C']\n",
    "list2"
   ]
  },
  {
   "cell_type": "code",
   "execution_count": 20,
   "id": "bc1cac10-753e-4088-90be-1a395203b533",
   "metadata": {},
   "outputs": [
    {
     "data": {
      "text/plain": [
       "[1, 2, 3, 'A', 'B', 'C']"
      ]
     },
     "execution_count": 20,
     "metadata": {},
     "output_type": "execute_result"
    }
   ],
   "source": [
    "list3=[1,2,3,'A','B','C']\n",
    "list3"
   ]
  },
  {
   "cell_type": "code",
   "execution_count": 32,
   "id": "cf598128-d3ec-4c81-ab17-404ec8fbe40e",
   "metadata": {},
   "outputs": [
    {
     "data": {
      "text/plain": [
       "[[[[[[[['python']]]]]]]]"
      ]
     },
     "execution_count": 32,
     "metadata": {},
     "output_type": "execute_result"
    }
   ],
   "source": [
    "list1=[1,2,3,4]\n",
    "list2=['A','B','C']\n",
    "list3=[1,2,3,'A','B','C']\n",
    "list4=[10,20,30,'Apple','Banana','Cherry',True,False,10.5,20+30j]\n",
    "list5=[10,10,10]\n",
    "list6=[10,20,30,['Apple','Banana']]\n",
    "list7=[[10]]\n",
    "name='python'\n",
    "list8=[name]\n",
    "list9=[_]\n",
    "list9"
   ]
  },
  {
   "cell_type": "code",
   "execution_count": 33,
   "id": "fd3c6283-fce5-4d5c-83ce-10cfd3abb83c",
   "metadata": {},
   "outputs": [],
   "source": [
    "list1=[10,20,2,5,75]\n",
    "list2=['Apple','apple','Cherry','banana']\n",
    "list3=[10,20,2,5,75,'Apple','apple','Cherry','banana']\n",
    "# perform all inbuilt functions\n",
    "# len max min sum sorted reversed"
   ]
  },
  {
   "cell_type": "code",
   "execution_count": 36,
   "id": "1ad54a89-2bfd-4106-8b08-90aec9dc78d2",
   "metadata": {},
   "outputs": [
    {
     "data": {
      "text/plain": [
       "(5, 4, 9)"
      ]
     },
     "execution_count": 36,
     "metadata": {},
     "output_type": "execute_result"
    }
   ],
   "source": [
    "len(list1),len(list2),len(list3)"
   ]
  },
  {
   "cell_type": "code",
   "execution_count": 39,
   "id": "1708c298-b026-4134-9d1c-51e24f38ae47",
   "metadata": {},
   "outputs": [
    {
     "data": {
      "text/plain": [
       "(2, 'APple')"
      ]
     },
     "execution_count": 39,
     "metadata": {},
     "output_type": "execute_result"
    }
   ],
   "source": [
    "list2=['Apple','APple','Cherry','banana']\n",
    "#       65,110   6580    97     67       98\n",
    "min(list1),min(list2)"
   ]
  },
  {
   "cell_type": "code",
   "execution_count": 40,
   "id": "f3bc0d77-709c-4bc1-970b-b8ce7363158e",
   "metadata": {},
   "outputs": [
    {
     "ename": "TypeError",
     "evalue": "'<' not supported between instances of 'str' and 'int'",
     "output_type": "error",
     "traceback": [
      "\u001b[1;31m---------------------------------------------------------------------------\u001b[0m",
      "\u001b[1;31mTypeError\u001b[0m                                 Traceback (most recent call last)",
      "Cell \u001b[1;32mIn[40], line 2\u001b[0m\n\u001b[0;32m      1\u001b[0m list3\u001b[38;5;241m=\u001b[39m[\u001b[38;5;241m10\u001b[39m,\u001b[38;5;241m20\u001b[39m,\u001b[38;5;241m2\u001b[39m,\u001b[38;5;241m5\u001b[39m,\u001b[38;5;241m75\u001b[39m,\u001b[38;5;124m'\u001b[39m\u001b[38;5;124mApple\u001b[39m\u001b[38;5;124m'\u001b[39m,\u001b[38;5;124m'\u001b[39m\u001b[38;5;124mapple\u001b[39m\u001b[38;5;124m'\u001b[39m,\u001b[38;5;124m'\u001b[39m\u001b[38;5;124mCherry\u001b[39m\u001b[38;5;124m'\u001b[39m,\u001b[38;5;124m'\u001b[39m\u001b[38;5;124mbanana\u001b[39m\u001b[38;5;124m'\u001b[39m]\n\u001b[1;32m----> 2\u001b[0m \u001b[38;5;28mmin\u001b[39m(list3)\n",
      "\u001b[1;31mTypeError\u001b[0m: '<' not supported between instances of 'str' and 'int'"
     ]
    }
   ],
   "source": [
    "list3=[10,20,2,5,75,'Apple','apple','Cherry','banana']\n",
    "min(list3)"
   ]
  },
  {
   "cell_type": "code",
   "execution_count": 43,
   "id": "77b82799-bdbb-4b39-8f3b-829e141bddb5",
   "metadata": {},
   "outputs": [
    {
     "data": {
      "text/plain": [
       "(75, 'banana')"
      ]
     },
     "execution_count": 43,
     "metadata": {},
     "output_type": "execute_result"
    }
   ],
   "source": [
    "list1=[10,20,2,5,75]\n",
    "list2=['Apple','apple','Cherry','banana']\n",
    "list3=[10,20,2,5,75,'Apple','apple','Cherry','banana']\n",
    "max(list1),max(list2)\n",
    "# max(list3)"
   ]
  },
  {
   "cell_type": "code",
   "execution_count": 44,
   "id": "17296ab0-4f53-430a-a43c-42d788b3d4af",
   "metadata": {},
   "outputs": [
    {
     "data": {
      "text/plain": [
       "112"
      ]
     },
     "execution_count": 44,
     "metadata": {},
     "output_type": "execute_result"
    }
   ],
   "source": [
    "list1=[10,20,2,5,75]\n",
    "sum(list1)"
   ]
  },
  {
   "cell_type": "code",
   "execution_count": 45,
   "id": "613b2937-4919-44fe-a279-dc631df25f18",
   "metadata": {},
   "outputs": [
    {
     "ename": "TypeError",
     "evalue": "unsupported operand type(s) for +: 'int' and 'str'",
     "output_type": "error",
     "traceback": [
      "\u001b[1;31m---------------------------------------------------------------------------\u001b[0m",
      "\u001b[1;31mTypeError\u001b[0m                                 Traceback (most recent call last)",
      "Cell \u001b[1;32mIn[45], line 2\u001b[0m\n\u001b[0;32m      1\u001b[0m list2\u001b[38;5;241m=\u001b[39m[\u001b[38;5;124m'\u001b[39m\u001b[38;5;124mApple\u001b[39m\u001b[38;5;124m'\u001b[39m,\u001b[38;5;124m'\u001b[39m\u001b[38;5;124mapple\u001b[39m\u001b[38;5;124m'\u001b[39m,\u001b[38;5;124m'\u001b[39m\u001b[38;5;124mCherry\u001b[39m\u001b[38;5;124m'\u001b[39m,\u001b[38;5;124m'\u001b[39m\u001b[38;5;124mbanana\u001b[39m\u001b[38;5;124m'\u001b[39m]\n\u001b[1;32m----> 2\u001b[0m \u001b[38;5;28msum\u001b[39m(list2)\n",
      "\u001b[1;31mTypeError\u001b[0m: unsupported operand type(s) for +: 'int' and 'str'"
     ]
    }
   ],
   "source": [
    "list2=['Apple','apple','Cherry','banana']\n",
    "sum(list2)"
   ]
  },
  {
   "cell_type": "code",
   "execution_count": 46,
   "id": "45235482-36cb-4f58-b725-90e7c62e639a",
   "metadata": {},
   "outputs": [
    {
     "data": {
      "text/plain": [
       "[2, 5, 10, 20, 75]"
      ]
     },
     "execution_count": 46,
     "metadata": {},
     "output_type": "execute_result"
    }
   ],
   "source": [
    "sorted(list1)"
   ]
  },
  {
   "cell_type": "code",
   "execution_count": 47,
   "id": "2292e96c-3575-4634-beb7-3822f54de7a0",
   "metadata": {},
   "outputs": [
    {
     "data": {
      "text/plain": [
       "['Apple', 'Cherry', 'apple', 'banana']"
      ]
     },
     "execution_count": 47,
     "metadata": {},
     "output_type": "execute_result"
    }
   ],
   "source": [
    "sorted(list2)"
   ]
  },
  {
   "cell_type": "code",
   "execution_count": 48,
   "id": "c3212c69-ad9f-4bf8-a979-af0708330ce8",
   "metadata": {},
   "outputs": [
    {
     "ename": "TypeError",
     "evalue": "'<' not supported between instances of 'str' and 'int'",
     "output_type": "error",
     "traceback": [
      "\u001b[1;31m---------------------------------------------------------------------------\u001b[0m",
      "\u001b[1;31mTypeError\u001b[0m                                 Traceback (most recent call last)",
      "Cell \u001b[1;32mIn[48], line 1\u001b[0m\n\u001b[1;32m----> 1\u001b[0m \u001b[38;5;28msorted\u001b[39m(list3)\n",
      "\u001b[1;31mTypeError\u001b[0m: '<' not supported between instances of 'str' and 'int'"
     ]
    }
   ],
   "source": [
    "sorted(list3) # fail"
   ]
  },
  {
   "cell_type": "code",
   "execution_count": 49,
   "id": "43922d98-d761-4fe8-9b56-cacd191fe7ad",
   "metadata": {},
   "outputs": [
    {
     "data": {
      "text/plain": [
       "<list_reverseiterator at 0x1cdaa15f100>"
      ]
     },
     "execution_count": 49,
     "metadata": {},
     "output_type": "execute_result"
    }
   ],
   "source": [
    "reversed(list1)"
   ]
  },
  {
   "cell_type": "code",
   "execution_count": 50,
   "id": "c8b46d91-8f55-4e38-ae8d-923b449c20a0",
   "metadata": {},
   "outputs": [
    {
     "data": {
      "text/plain": [
       "[75, 5, 2, 20, 10]"
      ]
     },
     "execution_count": 50,
     "metadata": {},
     "output_type": "execute_result"
    }
   ],
   "source": [
    "# method-1 : apply list\n",
    "list(reversed(list1))"
   ]
  },
  {
   "cell_type": "code",
   "execution_count": 51,
   "id": "e15b0b1e-5829-4eae-b3de-b152ebe85e6b",
   "metadata": {},
   "outputs": [
    {
     "name": "stdout",
     "output_type": "stream",
     "text": [
      "75\n",
      "5\n",
      "2\n",
      "20\n",
      "10\n"
     ]
    }
   ],
   "source": [
    "# method-2: iterate through for loop\n",
    "for i in reversed(list1):\n",
    "    print(i)"
   ]
  },
  {
   "cell_type": "code",
   "execution_count": 52,
   "id": "9d2fc26e-a62e-4b3f-897c-37d474b34c1c",
   "metadata": {},
   "outputs": [
    {
     "data": {
      "text/plain": [
       "([2, 5, 10, 20, 75], [75, 20, 10, 5, 2])"
      ]
     },
     "execution_count": 52,
     "metadata": {},
     "output_type": "execute_result"
    }
   ],
   "source": [
    "sorted(list1),sorted(list1,reverse=True)"
   ]
  },
  {
   "cell_type": "code",
   "execution_count": null,
   "id": "74ee099f-7eb3-408d-ad2e-3bdb18be0d5f",
   "metadata": {},
   "outputs": [],
   "source": [
    "# In the interview \n",
    "# list1=[10,20,2,5,75]\n",
    "# Q1) sort the list with out sorted function\n",
    "# Q2) Find the max value with out max function\n",
    "# Q3) Find the min value with out min function\n",
    "# Q4) Reverse the elemnts with out revrsed function\n",
    "# Q5) Sum the elements with out using sum function\n",
    "# Q6) Find the second max and second min "
   ]
  },
  {
   "cell_type": "markdown",
   "id": "3b5ae3bb-44ad-4664-8f50-4304b019c278",
   "metadata": {},
   "source": [
    "**concatenation**"
   ]
  },
  {
   "cell_type": "code",
   "execution_count": 53,
   "id": "f3f92181-5dae-4a8c-9cf2-0051620fbb2f",
   "metadata": {},
   "outputs": [
    {
     "data": {
      "text/plain": [
       "[1, 2, 3, 4, 'A', 'B', 'C', 'D']"
      ]
     },
     "execution_count": 53,
     "metadata": {},
     "output_type": "execute_result"
    }
   ],
   "source": [
    "list1=[1,2,3,4]\n",
    "list2=['A','B','C','D']\n",
    "\n",
    "list1+list2"
   ]
  },
  {
   "cell_type": "code",
   "execution_count": 55,
   "id": "523117ad-a4b0-46b3-a797-ec2ace5d6262",
   "metadata": {},
   "outputs": [
    {
     "name": "stdout",
     "output_type": "stream",
     "text": [
      "pythonpython\n",
      "pythonpython\n"
     ]
    }
   ],
   "source": [
    "print('python'*2)\n",
    "print('python'+'python') "
   ]
  },
  {
   "cell_type": "code",
   "execution_count": 56,
   "id": "7d001618-c88a-4750-8c05-61f2dda0b946",
   "metadata": {},
   "outputs": [
    {
     "name": "stdout",
     "output_type": "stream",
     "text": [
      "[1, 2, 3, 4, 1, 2, 3, 4]\n",
      "[1, 2, 3, 4, 1, 2, 3, 4]\n"
     ]
    }
   ],
   "source": [
    "print(list1+list1)\n",
    "print(list1*2)"
   ]
  },
  {
   "cell_type": "code",
   "execution_count": null,
   "id": "f20d7c4f-341d-4ac1-8de7-352fe695e412",
   "metadata": {},
   "outputs": [],
   "source": [
    "list1*list1  # Fail different error\n",
    "list1-list1  # Fail unsupposrted operand\n",
    "list1/lit1   # Fail unsupp"
   ]
  },
  {
   "cell_type": "markdown",
   "id": "11a42fc5-d9d4-4dd0-ac27-f47ee672817a",
   "metadata": {},
   "source": [
    "**index**"
   ]
  },
  {
   "cell_type": "code",
   "execution_count": 58,
   "id": "bde744e7-17b8-48be-b7ea-3034245370f2",
   "metadata": {},
   "outputs": [
    {
     "data": {
      "text/plain": [
       "(10, 10)"
      ]
     },
     "execution_count": 58,
     "metadata": {},
     "output_type": "execute_result"
    }
   ],
   "source": [
    "# -6  -5  -4   -3    -2     -1\n",
    "# 10  20  30   'A'   'B'   'C'\n",
    "# 0   1    2    3     4     5\n",
    "list1=[10,20,30,'A','B','C']\n",
    "list1[0],list1[-6]"
   ]
  },
  {
   "cell_type": "code",
   "execution_count": null,
   "id": "3711b03f-9581-4669-b5e3-dae0b2fc70fb",
   "metadata": {},
   "outputs": [],
   "source": [
    "# Postive index of 10 is 0\n",
    "# negative index of 10 is -6\n",
    "# postive index is 0 and negative index is -6 for 10"
   ]
  },
  {
   "cell_type": "code",
   "execution_count": 63,
   "id": "61dda755-ed28-45c3-9c98-d32b739a5de3",
   "metadata": {},
   "outputs": [
    {
     "data": {
      "text/plain": [
       "10"
      ]
     },
     "execution_count": 63,
     "metadata": {},
     "output_type": "execute_result"
    }
   ],
   "source": [
    "list1=[10]\n",
    "list1[0]\n",
    "# inside list how many elemnts are there: 1"
   ]
  },
  {
   "cell_type": "code",
   "execution_count": 66,
   "id": "eadae669-7bba-4066-ae9e-5ecbd8180448",
   "metadata": {},
   "outputs": [
    {
     "data": {
      "text/plain": [
       "10"
      ]
     },
     "execution_count": 66,
     "metadata": {},
     "output_type": "execute_result"
    }
   ],
   "source": [
    "list1=[[10]]\n",
    "# inside list how many elemnts are there:1\n",
    "# [10]\n",
    "list1[0][0]"
   ]
  },
  {
   "cell_type": "code",
   "execution_count": 68,
   "id": "11af0b48-a9ee-4318-ae28-dcd4e24f13f9",
   "metadata": {},
   "outputs": [
    {
     "data": {
      "text/plain": [
       "1"
      ]
     },
     "execution_count": 68,
     "metadata": {},
     "output_type": "execute_result"
    }
   ],
   "source": [
    "list1=[[10,20]]  # package\n",
    "len(list1)"
   ]
  },
  {
   "cell_type": "code",
   "execution_count": 69,
   "id": "228efca3-1b68-4092-8c30-e6ac34e6c4f9",
   "metadata": {},
   "outputs": [
    {
     "data": {
      "text/plain": [
       "(1, 2)"
      ]
     },
     "execution_count": 69,
     "metadata": {},
     "output_type": "execute_result"
    }
   ],
   "source": [
    "list1=[[10,20]]\n",
    "list2=[10,20]\n",
    "len(list1),len(list2)"
   ]
  },
  {
   "cell_type": "code",
   "execution_count": 70,
   "id": "3a9f92a1-f6c3-42e1-ac20-902e709daf1c",
   "metadata": {},
   "outputs": [
    {
     "data": {
      "text/plain": [
       "2"
      ]
     },
     "execution_count": 70,
     "metadata": {},
     "output_type": "execute_result"
    }
   ],
   "source": [
    "list1=[10,[20]]\n",
    "# i want 20\n",
    "len(list1)"
   ]
  },
  {
   "cell_type": "code",
   "execution_count": 72,
   "id": "c790c103-73fe-4ea1-b7bf-404e6b342790",
   "metadata": {},
   "outputs": [
    {
     "data": {
      "text/plain": [
       "20"
      ]
     },
     "execution_count": 72,
     "metadata": {},
     "output_type": "execute_result"
    }
   ],
   "source": [
    "list1=[10,[20]]\n",
    "list1[1][0]"
   ]
  },
  {
   "cell_type": "code",
   "execution_count": 74,
   "id": "a811bf0d-b7ef-489d-90ac-9fb3b9bc687d",
   "metadata": {},
   "outputs": [
    {
     "data": {
      "text/plain": [
       "'Cherry'"
      ]
     },
     "execution_count": 74,
     "metadata": {},
     "output_type": "execute_result"
    }
   ],
   "source": [
    "list1=[10,20,30,'A',['Banana','Cherry']]\n",
    "list1[4][1]"
   ]
  },
  {
   "cell_type": "code",
   "execution_count": 75,
   "id": "80e19cfc-48aa-431a-a1fb-d7164041bc76",
   "metadata": {},
   "outputs": [
    {
     "data": {
      "text/plain": [
       "['A', ['Apple', 'B', ['Banana'], 'C', ['Cherry']]]"
      ]
     },
     "execution_count": 75,
     "metadata": {},
     "output_type": "execute_result"
    }
   ],
   "source": [
    "list1=['A',['Apple','B',['Banana'],'C',['Cherry']]]\n",
    "list1"
   ]
  },
  {
   "cell_type": "code",
   "execution_count": 78,
   "id": "194e9ed2-477f-4a7a-93be-9955aa79c844",
   "metadata": {},
   "outputs": [
    {
     "data": {
      "text/plain": [
       "'Cherry'"
      ]
     },
     "execution_count": 78,
     "metadata": {},
     "output_type": "execute_result"
    }
   ],
   "source": [
    "list1[1][4][0]"
   ]
  },
  {
   "cell_type": "code",
   "execution_count": 101,
   "id": "5dc7a744-f199-47ae-be32-19d865c7486f",
   "metadata": {},
   "outputs": [
    {
     "data": {
      "text/plain": [
       "'Dragon fruite'"
      ]
     },
     "execution_count": 101,
     "metadata": {},
     "output_type": "execute_result"
    }
   ],
   "source": [
    "list1=['A',['Apple','B',['Banana','C',['Cherry','D',['Dragon fruite']]]]]\n",
    "len(list1) # two elements are there 0,1\n",
    "len(list1[1]) # three elememts 0,1,2\n",
    "len(list1[1][2]) # three elements 0,1,2\n",
    "len(list1[1][2][2]) # three elemnts 0,1,2\n",
    "list1[1][2][2][2][0]"
   ]
  },
  {
   "cell_type": "code",
   "execution_count": 105,
   "id": "63fb3071-5275-4f0e-87b4-4a913376b44e",
   "metadata": {},
   "outputs": [
    {
     "data": {
      "text/plain": [
       "'Bat'"
      ]
     },
     "execution_count": 105,
     "metadata": {},
     "output_type": "execute_result"
    }
   ],
   "source": [
    "list1=['Apple',['Kashmir',['India',['Criket',['Bat']]]]]\n",
    "list1[1][1][1][1][0]"
   ]
  },
  {
   "cell_type": "code",
   "execution_count": 110,
   "id": "0bc08f20-fcd1-4593-a36e-a17e1275ef09",
   "metadata": {},
   "outputs": [
    {
     "data": {
      "text/plain": [
       "'Viky'"
      ]
     },
     "execution_count": 110,
     "metadata": {},
     "output_type": "execute_result"
    }
   ],
   "source": [
    "list1=['Orange',['Nagpur',['MH',['Shivaji',['Shamabji',['Viky']]]]]]\n",
    "list1[1][1][1][1][1][0]"
   ]
  },
  {
   "cell_type": "code",
   "execution_count": 120,
   "id": "7132ad48-69f6-4fb0-abd0-c67cce510b33",
   "metadata": {},
   "outputs": [
    {
     "data": {
      "text/plain": [
       "'Apple'"
      ]
     },
     "execution_count": 120,
     "metadata": {},
     "output_type": "execute_result"
    }
   ],
   "source": [
    "list1=[[[[[[[[['Apple']]]]]]]]]\n",
    "list1[0][0][0][0][0][0][0][0][0]"
   ]
  },
  {
   "cell_type": "code",
   "execution_count": null,
   "id": "fe2e7c7b-29a9-43e2-82c5-9905a6d5bd29",
   "metadata": {},
   "outputs": [],
   "source": []
  }
 ],
 "metadata": {
  "kernelspec": {
   "display_name": "Python 3 (ipykernel)",
   "language": "python",
   "name": "python3"
  },
  "language_info": {
   "codemirror_mode": {
    "name": "ipython",
    "version": 3
   },
   "file_extension": ".py",
   "mimetype": "text/x-python",
   "name": "python",
   "nbconvert_exporter": "python",
   "pygments_lexer": "ipython3",
   "version": "3.12.7"
  }
 },
 "nbformat": 4,
 "nbformat_minor": 5
}
